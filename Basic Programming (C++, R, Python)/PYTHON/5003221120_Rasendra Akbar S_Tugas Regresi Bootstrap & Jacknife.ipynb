{
 "cells": [
  {
   "cell_type": "markdown",
   "id": "186cb7bd-d306-43db-8ad0-f14f8beafe72",
   "metadata": {},
   "source": [
    "# __REGRESI BOOTSTRAP & JACKNIFE__"
   ]
  },
  {
   "cell_type": "markdown",
   "id": "ab6d96e9-e556-4425-9e1b-73ba919fa176",
   "metadata": {},
   "source": [
    "----------------------------------------------------------------------------------------"
   ]
  },
  {
   "cell_type": "markdown",
   "id": "1f143dbe-b3b9-4629-a11e-ca17d2f7b10f",
   "metadata": {},
   "source": [
    "### ___Made By :___"
   ]
  },
  {
   "cell_type": "markdown",
   "id": "22482228-d888-4c38-b6e3-b70fc5b93d49",
   "metadata": {},
   "source": [
    "#### _5003221001 - M. Farhan Lucky P<br>5003221061 - M. Iqbal Nurrifki<br>5003221111 - T. Ahyaul Kamal<br>5003221120 - Rasendra Akbar S<br>5003221131 - Ketut Bagus Ananta<br>5003221140 - M. Noor Satriya<br>5003221151 - Yansen Demos Putra N_"
   ]
  },
  {
   "cell_type": "markdown",
   "id": "5c07a1a2-2b1f-4e1b-bd9e-f7427904f211",
   "metadata": {},
   "source": [
    "#### Link Data yang digunakan : __https://drive.google.com/drive/folders/159dRUHZC3h8aGNmkPsbR4g1CdglU7wHJ?usp=sharing__"
   ]
  },
  {
   "cell_type": "markdown",
   "id": "660aa1fd-c571-417e-a6dc-523fbfdf6c64",
   "metadata": {},
   "source": [
    "------------------------------------------------------------------------------------------------"
   ]
  },
  {
   "cell_type": "code",
   "execution_count": 1,
   "id": "a9f52d52-88b8-4123-84e1-62ee70b21630",
   "metadata": {},
   "outputs": [],
   "source": [
    "import numpy as np\n",
    "import pandas as pd\n",
    "from tabulate import tabulate"
   ]
  },
  {
   "cell_type": "markdown",
   "id": "ca06f4af-c44b-438f-a445-83d6196f115a",
   "metadata": {},
   "source": [
    "## _BOOTSTRAP - XY_"
   ]
  },
  {
   "cell_type": "code",
   "execution_count": 31,
   "id": "03994c46-9d35-42ea-8537-dfbf49061754",
   "metadata": {},
   "outputs": [],
   "source": [
    "def xy_bootstrap(x, y, n_bootstraps):\n",
    "    \n",
    "    def hitung_beta(data_x, data_y):\n",
    "        matriks_x = np.column_stack((np.ones(data_x.shape[0]), data_x))\n",
    "        b = np.linalg.pinv(matriks_x.T @ matriks_x) @ (matriks_x.T @ data_y)\n",
    "        return b\n",
    "    \n",
    "    banyak_baris = y.shape[0]\n",
    "    banyak_kolom = x.shape[1]\n",
    "    \n",
    "    true_b = hitung_beta(x, y)\n",
    "\n",
    "    data_xy = np.column_stack((x,y))\n",
    "    \n",
    "    coefs_boot = []\n",
    "    \n",
    "    for i in range(n_bootstraps):\n",
    "        data_boot = data_xy[np.random.choice(data_xy.shape[0], data_xy.shape[0], replace=True)]\n",
    "        x_bootstrap = data_boot[:, :-1]\n",
    "        y_bootstrap = data_boot[:, -1]\n",
    "        \n",
    "        model = hitung_beta(x_bootstrap, y_bootstrap)\n",
    "        \n",
    "        coefs_boot.append(model)\n",
    "        \n",
    "    coef_mean = np.mean(coefs_boot, axis=0)\n",
    "    \n",
    "    # OUTPUT\n",
    "    nama_baris = [f'β{i}' for i in range(len(true_b))]\n",
    "    nama_kolom = [\"True Coefficients\", \"Boostrap Coefficients\", \"Bias\"]\n",
    "    bias = coef_mean - true_b\n",
    "    isi_tabel = np.column_stack((true_b, coef_mean, bias))\n",
    "    output_df = pd.DataFrame(isi_tabel, index=nama_baris, columns=nama_kolom)\n",
    "    tabel_output = tabulate(output_df, headers='keys', tablefmt='fancy_grid', numalign=\"center\")\n",
    "    \n",
    "    print(\"==================================================================\")\n",
    "    print(\"\\t\\t\\tXY BOOTSTRAP\")\n",
    "    print(\"==================================================================\")\n",
    "    print(tabel_output)"
   ]
  },
  {
   "cell_type": "code",
   "execution_count": 32,
   "id": "b549afad-e304-4d1a-9e85-1a5cf4b527b7",
   "metadata": {},
   "outputs": [
    {
     "name": "stdout",
     "output_type": "stream",
     "text": [
      "==================================================================\n",
      "\t\t\tXY BOOTSTRAP\n",
      "==================================================================\n",
      "╒════╤═════════════════════╤═════════════════════════╤═══════════╕\n",
      "│    │  True Coefficients  │  Boostrap Coefficients  │   Bias    │\n",
      "╞════╪═════════════════════╪═════════════════════════╪═══════════╡\n",
      "│ β0 │       62.4054       │         82.0044         │  19.599   │\n",
      "├────┼─────────────────────┼─────────────────────────┼───────────┤\n",
      "│ β1 │       1.5511        │         1.37764         │ -0.173467 │\n",
      "├────┼─────────────────────┼─────────────────────────┼───────────┤\n",
      "│ β2 │      0.510168       │         0.30597         │ -0.204198 │\n",
      "├────┼─────────────────────┼─────────────────────────┼───────────┤\n",
      "│ β3 │      0.101909       │       -0.0739777        │ -0.175887 │\n",
      "├────┼─────────────────────┼─────────────────────────┼───────────┤\n",
      "│ β4 │      -0.144061      │        -0.350558        │ -0.206497 │\n",
      "╘════╧═════════════════════╧═════════════════════════╧═══════════╛\n"
     ]
    }
   ],
   "source": [
    "data = pd.read_excel(\"Data_Tugas_Anreg_M13.xlsx\")\n",
    "datax1 = data['X1']\n",
    "datax2 = data['X2']\n",
    "datax3 = data['X3']\n",
    "datax4 = data['X4']\n",
    "datay = data['Y']\n",
    "data_x = np.column_stack((datax1, datax2, datax3, datax4))\n",
    "\n",
    "\n",
    "xy_bootstrap(data_x, datay, 10000)"
   ]
  },
  {
   "cell_type": "markdown",
   "id": "11db7cc4-381d-4f0f-b514-ee9b95954172",
   "metadata": {},
   "source": [
    "## _BOOTSTRAP - Residual_"
   ]
  },
  {
   "cell_type": "code",
   "execution_count": 6,
   "id": "dab90413-63f5-403e-a66b-ce7c7d91f17d",
   "metadata": {},
   "outputs": [],
   "source": [
    "def resiudal_bootstrap(DataX, DataY, n_bootstrap):\n",
    "    banyak_baris = DataY.shape[0]\n",
    "    banyak_kolom = DataX.shape[1]\n",
    "    matriks_1 = []\n",
    "    for i in range(banyak_baris):\n",
    "        matriks_1.append(1)\n",
    "    matriks_x = np.column_stack((matriks_1, DataX))\n",
    "    b = np.linalg.inv(matriks_x.T @ matriks_x) @ (matriks_x.T @ DataY.T)\n",
    "    ypred = matriks_x@b\n",
    "    e = DataY-ypred\n",
    "\n",
    "    matriks_bootstrap = np.empty([n_bootstrap, len(b)])\n",
    "    for i in range(n_bootstrap):\n",
    "        indeks_acak = np.random.choice(banyak_baris, banyak_baris, replace=True)\n",
    "        e_sample = e[indeks_acak]\n",
    "        y_bootstrap = e_sample + ypred\n",
    "        b_bootstrap = np.linalg.inv(matriks_x.T @ matriks_x) @ (matriks_x.T @ y_bootstrap.T)\n",
    "\n",
    "        for j in range(len(b)):\n",
    "            matriks_bootstrap[i,j] = b_bootstrap[j]\n",
    "\n",
    "    koefisien_bootstrap = []  \n",
    "    for i in range(len(b)):\n",
    "        koefisien_bootstrap.append(np.mean(matriks_bootstrap[:, i]))\n",
    "\n",
    "    #OUTPUT\n",
    "    nama_baris = []\n",
    "    for i in range(len(b)):\n",
    "        nama_baris.append(f'β{i}')\n",
    "    nama_kolom = [\"True Coefficients\", \"Boostrap Coefficients\", \"Bias\"]\n",
    "    bias = koefisien_bootstrap-b\n",
    "    isi_tabel = np.column_stack((b, koefisien_bootstrap, bias))\n",
    "    output_df = pd.DataFrame(isi_tabel, index = nama_baris, columns = nama_kolom)\n",
    "    tabel_output = tabulate(output_df, headers='keys', tablefmt='fancy_grid', numalign=\"center\")\n",
    "    print(\"==================================================================\")\n",
    "    print(\"\\t\\t\\tRESIDUAL BOOTSTRAP\")\n",
    "    print(\"==================================================================\")\n",
    "    print(tabel_output)"
   ]
  },
  {
   "cell_type": "code",
   "execution_count": 7,
   "id": "d50319f3-a1ba-4910-bc42-b2bb5682b947",
   "metadata": {},
   "outputs": [
    {
     "name": "stdout",
     "output_type": "stream",
     "text": [
      "==================================================================\n",
      "\t\t\tRESIDUAL BOOTSTRAP\n",
      "==================================================================\n",
      "╒════╤═════════════════════╤═════════════════════════╤════════════╕\n",
      "│    │  True Coefficients  │  Boostrap Coefficients  │    Bias    │\n",
      "╞════╪═════════════════════╪═════════════════════════╪════════════╡\n",
      "│ β0 │       62.4054       │         62.1309         │ -0.274475  │\n",
      "├────┼─────────────────────┼─────────────────────────┼────────────┤\n",
      "│ β1 │       1.5511        │         1.55371         │ 0.00261084 │\n",
      "├────┼─────────────────────┼─────────────────────────┼────────────┤\n",
      "│ β2 │      0.510168       │        0.512357         │ 0.00218929 │\n",
      "├────┼─────────────────────┼─────────────────────────┼────────────┤\n",
      "│ β3 │      0.101909       │        0.107273         │ 0.00536405 │\n",
      "├────┼─────────────────────┼─────────────────────────┼────────────┤\n",
      "│ β4 │      -0.144061      │        -0.141537        │ 0.00252429 │\n",
      "╘════╧═════════════════════╧═════════════════════════╧════════════╛\n"
     ]
    }
   ],
   "source": [
    "data = pd.read_excel(\"Data_Tugas_Anreg_M13.xlsx\")\n",
    "datax1 = data['X1']\n",
    "datax2 = data['X2']\n",
    "datax3 = data['X3']\n",
    "datax4 = data['X4']\n",
    "datay = data['Y']\n",
    "data_x = np.column_stack((datax1, datax2, datax3, datax4))\n",
    "\n",
    "\n",
    "resiudal_bootstrap(data_x, datay, 1000)"
   ]
  },
  {
   "cell_type": "markdown",
   "id": "9f1bdc90-57db-4c84-b2f2-d3fcb0a7b77b",
   "metadata": {},
   "source": [
    "## _JACKNIFE REGRESSION_"
   ]
  },
  {
   "cell_type": "code",
   "execution_count": 8,
   "id": "8a2cf923-853a-4a54-aef9-4b252283ef45",
   "metadata": {},
   "outputs": [],
   "source": [
    "def jackknife_regresi(x, y):\n",
    "    def hitung_beta_regresi(data_x, data_y):\n",
    "        matriks_x = np.column_stack((np.ones(data_x.shape[0]), data_x))\n",
    "        b = np.linalg.inv(matriks_x.T @ matriks_x) @ (matriks_x.T @ data_y)\n",
    "        return b\n",
    "    \n",
    "    banyak_baris = y.shape[0]\n",
    "    banyak_kolom = x.shape[1]\n",
    "    \n",
    "    true_b = hitung_beta_regresi(x, y)\n",
    "    \n",
    "    coefs_jackknife = []\n",
    "    \n",
    "    for i in range(banyak_baris):\n",
    "        x_jackknife = np.delete(x, i, axis=0)\n",
    "        y_jackknife = np.delete(y, i, axis=0)\n",
    "        \n",
    "        model = hitung_beta_regresi(x_jackknife, y_jackknife)\n",
    "        \n",
    "        coefs_jackknife.append(model)\n",
    "        \n",
    "    coef_mean = np.mean(coefs_jackknife, axis=0)\n",
    "    \n",
    "    # OUTPUT\n",
    "    nama_baris = [f'β{i}' for i in range(len(true_b))]\n",
    "    nama_kolom = [\"True Coefficients\", \"Jackknife Coefficients\", \"Bias\"]\n",
    "    bias = coef_mean - true_b\n",
    "    isi_tabel = np.column_stack((true_b, coef_mean, bias))\n",
    "    output_df = pd.DataFrame(isi_tabel, index=nama_baris, columns=nama_kolom)\n",
    "    tabel_output = tabulate(output_df, headers='keys', tablefmt='fancy_grid', numalign=\"center\")\n",
    "    \n",
    "    print(\"==================================================================\")\n",
    "    print(\"\\t\\t\\tJACKKNIFE REGRESSION\")\n",
    "    print(\"==================================================================\")\n",
    "    print(tabel_output)"
   ]
  },
  {
   "cell_type": "code",
   "execution_count": 9,
   "id": "e658ab12-2ced-4aba-9aba-373df9fcded5",
   "metadata": {},
   "outputs": [
    {
     "name": "stdout",
     "output_type": "stream",
     "text": [
      "==================================================================\n",
      "\t\t\tJACKKNIFE REGRESSION\n",
      "==================================================================\n",
      "╒════╤═════════════════════╤══════════════════════════╤════════════╕\n",
      "│    │  True Coefficients  │  Jackknife Coefficients  │    Bias    │\n",
      "╞════╪═════════════════════╪══════════════════════════╪════════════╡\n",
      "│ β0 │       62.4054       │         65.0113          │  2.60592   │\n",
      "├────┼─────────────────────┼──────────────────────────┼────────────┤\n",
      "│ β1 │       1.5511        │         1.52348          │ -0.0276193 │\n",
      "├────┼─────────────────────┼──────────────────────────┼────────────┤\n",
      "│ β2 │      0.510168       │         0.483921         │ -0.0262466 │\n",
      "├────┼─────────────────────┼──────────────────────────┼────────────┤\n",
      "│ β3 │      0.101909       │        0.0737863         │ -0.0281231 │\n",
      "├────┼─────────────────────┼──────────────────────────┼────────────┤\n",
      "│ β4 │      -0.144061      │        -0.170396         │ -0.0263346 │\n",
      "╘════╧═════════════════════╧══════════════════════════╧════════════╛\n"
     ]
    }
   ],
   "source": [
    "data = pd.read_excel(\"Data_Tugas_Anreg_M13.xlsx\")\n",
    "datax1 = data['X1']\n",
    "datax2 = data['X2']\n",
    "datax3 = data['X3']\n",
    "datax4 = data['X4']\n",
    "datay = data['Y']\n",
    "data_x = np.column_stack((datax1, datax2, datax3, datax4))\n",
    "\n",
    "\n",
    "jackknife_regresi(data_x, datay)"
   ]
  },
  {
   "cell_type": "code",
   "execution_count": 4,
   "id": "261cd62d-7aca-4dcd-8781-b17adacb215b",
   "metadata": {},
   "outputs": [
    {
     "data": {
      "text/plain": [
       "array([[  2. ,  54. ,  18. ,  22. ,  93.1],\n",
       "       [  1. ,  31. ,  22. ,  44. ,  72.5],\n",
       "       [  3. ,  71. ,  17. ,   6. , 102.7],\n",
       "       [ 11. ,  55. ,   9. ,  22. , 109.2],\n",
       "       [ 11. ,  31. ,   8. ,  47. ,  87.6],\n",
       "       [  2. ,  54. ,  18. ,  22. ,  93.1],\n",
       "       [ 21. ,  47. ,   4. ,  26. , 115.9],\n",
       "       [ 11. ,  66. ,   9. ,  12. , 113.3],\n",
       "       [  1. ,  31. ,  22. ,  44. ,  72.5],\n",
       "       [ 11. ,  56. ,   8. ,  20. , 104.3],\n",
       "       [  1. ,  29. ,  15. ,  52. ,  74.3],\n",
       "       [  3. ,  71. ,  17. ,   6. , 102.7],\n",
       "       [  2. ,  54. ,  18. ,  22. ,  93.1]])"
      ]
     },
     "execution_count": 4,
     "metadata": {},
     "output_type": "execute_result"
    }
   ],
   "source": [
    "data = pd.read_excel(\"Data_Tugas_Anreg_M13.xlsx\")\n",
    "datax1 = data['X1']\n",
    "datax2 = data['X2']\n",
    "datax3 = data['X3']\n",
    "datax4 = data['X4']\n",
    "datay = data['Y']\n",
    "data_x = np.column_stack((datax1, datax2, datax3, datax4))\n",
    "xy = np.column_stack((data_x,datay))\n",
    "xy\n",
    "xy = xy[np.random.choice(xy.shape[0], xy.shape[0], replace=True)]\n",
    "xy"
   ]
  },
  {
   "cell_type": "code",
   "execution_count": null,
   "id": "819cadb1-6ca1-41f8-8d06-9630b12664b0",
   "metadata": {},
   "outputs": [],
   "source": []
  }
 ],
 "metadata": {
  "kernelspec": {
   "display_name": "Python 3 (ipykernel)",
   "language": "python",
   "name": "python3"
  },
  "language_info": {
   "codemirror_mode": {
    "name": "ipython",
    "version": 3
   },
   "file_extension": ".py",
   "mimetype": "text/x-python",
   "name": "python",
   "nbconvert_exporter": "python",
   "pygments_lexer": "ipython3",
   "version": "3.11.1"
  }
 },
 "nbformat": 4,
 "nbformat_minor": 5
}
