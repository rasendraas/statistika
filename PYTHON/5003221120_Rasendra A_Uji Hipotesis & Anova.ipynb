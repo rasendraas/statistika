{
 "cells": [
  {
   "cell_type": "markdown",
   "id": "6d6af134-f306-4389-ae6c-cff24bccab1b",
   "metadata": {},
   "source": [
    "# _UJI HIPOTESIS_"
   ]
  },
  {
   "cell_type": "markdown",
   "id": "b0e0678f-29d6-4bbf-91e8-6454a3fedb71",
   "metadata": {},
   "source": [
    "#### _Nama : Rasendra Akbar S<br>NRP : 5003221120_"
   ]
  },
  {
   "cell_type": "markdown",
   "id": "5a0d0883-3f04-4c65-a070-a9154298f016",
   "metadata": {},
   "source": [
    "--------------------------------------------------------------------------------"
   ]
  },
  {
   "cell_type": "markdown",
   "id": "0435254e-8150-4fdd-b914-071218b2ad16",
   "metadata": {},
   "source": [
    "### _1 POPULASI (Mean)_"
   ]
  },
  {
   "cell_type": "markdown",
   "id": "1906dbaf-7dd4-479e-ab79-e5cdaa320102",
   "metadata": {},
   "source": [
    "--------------------------------------------------------------------------------"
   ]
  },
  {
   "cell_type": "code",
   "execution_count": 13,
   "id": "fb8dfbae-ff30-41c3-bf35-bfdc7903acac",
   "metadata": {},
   "outputs": [],
   "source": [
    "#pip install scipy"
   ]
  },
  {
   "cell_type": "code",
   "execution_count": 14,
   "id": "afd84372-41fd-4430-b00c-2db4459e5903",
   "metadata": {},
   "outputs": [],
   "source": [
    "#pip install statsmodels"
   ]
  },
  {
   "cell_type": "code",
   "execution_count": 3,
   "id": "6195e0ce-7daa-4ff1-9ee7-a62ee399010a",
   "metadata": {},
   "outputs": [],
   "source": [
    "import numpy as np\n",
    "from scipy import stats\n",
    "import scipy.stats as st"
   ]
  },
  {
   "cell_type": "markdown",
   "id": "1451a61d-5972-49ca-8016-f9be85312f08",
   "metadata": {},
   "source": [
    "#### Uji Mean standar deviasi populasi diketahui _(Z-Test)_"
   ]
  },
  {
   "cell_type": "code",
   "execution_count": 2,
   "id": "353bcf46-7636-442a-b99e-e165a088ae7f",
   "metadata": {},
   "outputs": [],
   "source": [
    "from statsmodels.stats.weightstats import ztest as ztest"
   ]
  },
  {
   "cell_type": "code",
   "execution_count": 7,
   "id": "491de35f-f261-4e9c-a386-8eee26a9dc30",
   "metadata": {},
   "outputs": [
    {
     "data": {
      "text/plain": [
       "(1.5976240527147705, 0.11012667014384257)"
      ]
     },
     "execution_count": 7,
     "metadata": {},
     "output_type": "execute_result"
    }
   ],
   "source": [
    "#enter data\n",
    "data = [88, 92, 94, 94, 96, 97, 97, 97, 99, 99, 105, 109, 109, 109, 110, 112, 112, 113, 114, 115]\n",
    "#perform one sample z-test test value is 100\n",
    "ztest(data, value=100)"
   ]
  },
  {
   "cell_type": "markdown",
   "id": "b980b32c-61bd-4c94-bbf7-f487a671d336",
   "metadata": {},
   "source": [
    "#### TUGAS 1 (Tambahkan perhitungan P-Value)"
   ]
  },
  {
   "cell_type": "code",
   "execution_count": 62,
   "id": "febe11e3-7d3d-40b8-ae02-8cafe32da58f",
   "metadata": {},
   "outputs": [],
   "source": [
    "from scipy.stats import norm"
   ]
  },
  {
   "cell_type": "code",
   "execution_count": 65,
   "id": "d9db7ee8-8540-4aaf-ae53-82af1833e2cf",
   "metadata": {},
   "outputs": [],
   "source": [
    "def one_sample_z_test(sample, mu):\n",
    "    n = len(sample)\n",
    "    x_bar = np.mean(sample)\n",
    "    s = np.sqrt(np.sum((sample - x_bar)**2) / (n - 1))\n",
    "    z_statistic = (x_bar - mu) / (s / np.sqrt(n))\n",
    "    pvalue = 2*(1 - norm.cdf(abs(z_statistic)))\n",
    "    return (z_statistic, pvalue)"
   ]
  },
  {
   "cell_type": "code",
   "execution_count": 66,
   "id": "8b61643d-a791-4a3c-ab8e-36f93723439b",
   "metadata": {},
   "outputs": [
    {
     "name": "stdout",
     "output_type": "stream",
     "text": [
      "Z statistic :  1.5976240527147705\n",
      "P Value :  0.11012667014384259\n"
     ]
    }
   ],
   "source": [
    "# Example usage\n",
    "sample = np.array([88, 92, 94, 94, 96, 97, 97, 97, 99, 99, 105, 109, 109, 109, 110, 112, 112, 113, 114, 115])\n",
    "mu = 100\n",
    "z_statistic = one_sample_z_test(sample, mu)\n",
    "print(\"Z statistic : \", z_statistic[0])\n",
    "print(\"P Value : \", z_statistic[1])"
   ]
  },
  {
   "cell_type": "markdown",
   "id": "14f2ed5d-706b-4338-8aea-a3adb3d4321e",
   "metadata": {},
   "source": [
    "## UJI Z (Mean)"
   ]
  },
  {
   "cell_type": "code",
   "execution_count": 6,
   "id": "c37fca43-03b2-49b5-8b59-acb6f2189ee7",
   "metadata": {},
   "outputs": [],
   "source": [
    "def uji_z_1pop (data, miu0, std_pop, alpha, pilihan):\n",
    "    n = len(data)\n",
    "    x_bar = np.mean(data)\n",
    "    z_hit = (x_bar - miu0) / (std_pop / np.sqrt(n))\n",
    "    if (pilihan == \"lower\"):\n",
    "        tandah0 = '>='\n",
    "        tandah1 = '<'\n",
    "        pval = norm.cdf(z_hit)\n",
    "        z_table = norm.ppf(alpha)\n",
    "    elif (pilihan == \"upper\"):\n",
    "        tandah0 = '<='\n",
    "        tandah1 = '>'\n",
    "        pval = 1-norm.cdf(z_hit)\n",
    "        z_table = norm.ppf(1-alpha)\n",
    "    elif (pilihan == \"twotail\"):\n",
    "        tandah0 = '='\n",
    "        tandah1 = '!='\n",
    "        pval = 2*(1 - norm.cdf(abs(z_hit)))\n",
    "        z_table = norm.ppf(1-alpha/2)\n",
    "    if pval<alpha:\n",
    "        keputusan = \"Tolak H0\"\n",
    "    else:\n",
    "        keputusan = \"Gagal Tolak H0\"\n",
    "    print('=================================================')\n",
    "    print('\\t\\tUJI Z 1 POPULASI')\n",
    "    print('=================================================')\n",
    "    print(\"Hipotesis : \")\n",
    "    print('-------------------------------------------------')\n",
    "    print(\"H0 : Miu\",tandah0,miu0)\n",
    "    print(\"H1 : Miu\",tandah1,miu0)\n",
    "    print('-------------------------------------------------')\n",
    "    print('Z Hitung\\t=',z_hit)\n",
    "    print('Z Tabel\\t\\t=',z_table)\n",
    "    print('P - Value\\t=',pval)\n",
    "    print('Alpha\\t\\t=',alpha)\n",
    "    print('-------------------------------------------------')\n",
    "    print('Keputusan\\t=',keputusan)\n",
    "    print('=================================================')"
   ]
  },
  {
   "cell_type": "code",
   "execution_count": 7,
   "id": "18291cb6-12d2-4529-a1ab-cd3efce36185",
   "metadata": {},
   "outputs": [
    {
     "name": "stdout",
     "output_type": "stream",
     "text": [
      "=================================================\n",
      "\t\tUJI Z 1 POPULASI\n",
      "=================================================\n",
      "Hipotesis : \n",
      "-------------------------------------------------\n",
      "H0 : Miu = 15\n",
      "H1 : Miu != 15\n",
      "-------------------------------------------------\n",
      "Z Hitung\t= 1.4142135623730936\n",
      "Z Tabel\t\t= 1.959963984540054\n",
      "P - Value\t= 0.15729920705028544\n",
      "Alpha\t\t= 0.05\n",
      "-------------------------------------------------\n",
      "Keputusan\t= Gagal Tolak H0\n",
      "=================================================\n"
     ]
    }
   ],
   "source": [
    "sample = np.array([10, 12, 14, 15, 16, 17, 18, 19, 20])\n",
    "mu = 15\n",
    "var = 2\n",
    "std_pop = np.sqrt(var)\n",
    "alpha = 0.05\n",
    "\n",
    "uji_z_1pop(sample, mu, std_pop, alpha, \"twotail\")"
   ]
  },
  {
   "cell_type": "markdown",
   "id": "01acff53-458c-41b0-8ef5-937ba784cf03",
   "metadata": {},
   "source": [
    "## UJI Z (Proporsi)"
   ]
  },
  {
   "cell_type": "code",
   "execution_count": 13,
   "id": "2154f555-1d23-40e2-b3b6-c299dbfb8e7b",
   "metadata": {},
   "outputs": [],
   "source": [
    "def uji_prop_1pop(phat, n, p0, alpha, pilihan):\n",
    "    qhat = 1 - phat\n",
    "    z_hit = (phat - p0) / np.sqrt(p0 * (1-p0) / n)\n",
    "    if (pilihan == \"lower\"):\n",
    "        tandah0 = '>='\n",
    "        tandah1 = '<'\n",
    "        pval = norm.cdf(z_hit)\n",
    "        z_table = norm.ppf(alpha)\n",
    "    elif (pilihan == \"upper\"):\n",
    "        tandah0 = '<='\n",
    "        tandah1 = '>'\n",
    "        pval = 1-norm.cdf(z_hit)\n",
    "        z_table = norm.ppf(1-alpha)\n",
    "    elif (pilihan == \"twotail\"):\n",
    "        tandah0 = '='\n",
    "        tandah1 = '!='\n",
    "        pval = 2*(1 - norm.cdf(abs(z_hit)))\n",
    "        z_table = norm.ppf(1-alpha/2)\n",
    "    if pval<alpha:\n",
    "        keputusan = \"Tolak H0\"\n",
    "    else:\n",
    "        keputusan = \"Gagal Tolak H0\"\n",
    "    z_table = norm.ppf(1-alpha/2)\n",
    "    ci_upper = phat + z_table*np.sqrt((phat*qhat)/n)\n",
    "    ci_lower = phat - z_table*np.sqrt((phat*qhat)/n)\n",
    "    print('=================================================')\n",
    "    print('\\t     UJI PROPORSI 1 POPULASI')\n",
    "    print('=================================================')\n",
    "    print(\"Hipotesis : \")\n",
    "    print('-------------------------------------------------')\n",
    "    print(\"H0 : Phat\",tandah0,p0)\n",
    "    print(\"H1 : Phat\",tandah1,p0)\n",
    "    print('-------------------------------------------------')\n",
    "    print('Z Hitung\\t=',z_hit)\n",
    "    print('Z Tabel\\t\\t=',z_table)\n",
    "    print('P - Value\\t=',pval)\n",
    "    print('Alpha\\t\\t=',alpha)\n",
    "    print(f'CI : [{ci_lower};{ci_upper}]')\n",
    "    print('-------------------------------------------------')\n",
    "    print('Keputusan\\t=',keputusan)\n",
    "    print('=================================================')"
   ]
  },
  {
   "cell_type": "code",
   "execution_count": 14,
   "id": "c6d3283e-315e-4ba7-9f4e-063276a29297",
   "metadata": {},
   "outputs": [
    {
     "name": "stdout",
     "output_type": "stream",
     "text": [
      "=================================================\n",
      "\t     UJI PROPORSI 1 POPULASI\n",
      "=================================================\n",
      "Hipotesis : \n",
      "-------------------------------------------------\n",
      "H0 : Phat = 0.5\n",
      "H1 : Phat != 0.5\n",
      "-------------------------------------------------\n",
      "Z Hitung\t= 3.651483716701108\n",
      "Z Tabel\t\t= 1.959963984540054\n",
      "P - Value\t= 0.0002607296328553943\n",
      "Alpha\t\t= 0.05\n",
      "CI : [0.699974675656797;0.9666919910098697]\n",
      "-------------------------------------------------\n",
      "Keputusan\t= Tolak H0\n",
      "=================================================\n"
     ]
    }
   ],
   "source": [
    "psoal = 25 / 30\n",
    "alpha = 0.05\n",
    "uji_prop_1pop(psoal, 30, 0.5, alpha, \"twotail\")"
   ]
  },
  {
   "cell_type": "markdown",
   "id": "49c81c51-62ac-499e-a930-6b15a924ba19",
   "metadata": {},
   "source": [
    "## UJI t (Mean)"
   ]
  },
  {
   "cell_type": "code",
   "execution_count": 56,
   "id": "fd553e6c-3d64-4c5d-ac22-6a45656fe326",
   "metadata": {},
   "outputs": [
    {
     "data": {
      "text/plain": [
       "TtestResult(statistic=1.0954451150103321, pvalue=0.3052013652062302, df=8)"
      ]
     },
     "execution_count": 56,
     "metadata": {},
     "output_type": "execute_result"
    }
   ],
   "source": [
    "import scipy.stats as stats\n",
    "sample = [2, 3, 4, 5, 6, 7, 8, 9, 10]\n",
    "population_mean = 5\n",
    "stats.ttest_1samp(sample,population_mean)"
   ]
  },
  {
   "cell_type": "code",
   "execution_count": 61,
   "id": "fe6c6577-1f26-44a1-baf7-2dfd33905e71",
   "metadata": {},
   "outputs": [],
   "source": [
    "def one_sample_t_test(sample, mu):\n",
    "    n = len(sample)\n",
    "    x_bar = np.mean(sample)\n",
    "    s = np.sqrt(np.sum((sample - x_bar)**2) / (n - 1))\n",
    "    t_statistic = (x_bar - mu) / (s / np.sqrt(n))\n",
    "    df = n - 1\n",
    "    pval = 2*(1 - t.cdf(abs(t_statistic), df))\n",
    "    return (t_statistic, df, pval)"
   ]
  },
  {
   "cell_type": "code",
   "execution_count": 62,
   "id": "e39a4f09-90e9-4d60-9b21-652f34c6df6c",
   "metadata": {},
   "outputs": [
    {
     "name": "stdout",
     "output_type": "stream",
     "text": [
      "T statistic: 0.6099942813304181\n",
      "Degrees of freedom: 8\n",
      "P-Value: 0.5587899692492146\n"
     ]
    }
   ],
   "source": [
    "# Example usage\n",
    "sample = np.array([10, 12, 14, 15, 16, 17, 18, 19, 20])\n",
    "mu = 15\n",
    "t_statistic, df, nilai_pv = one_sample_t_test(sample, mu)\n",
    "print(\"T statistic:\", t_statistic)\n",
    "print(\"Degrees of freedom:\", df)\n",
    "print(\"P-Value:\", nilai_pv)"
   ]
  },
  {
   "cell_type": "code",
   "execution_count": 57,
   "id": "d84b0eb9-1085-4aa1-b9eb-eef4f7708512",
   "metadata": {},
   "outputs": [],
   "source": [
    "from scipy.stats import t"
   ]
  },
  {
   "cell_type": "code",
   "execution_count": 70,
   "id": "59433dfe-355b-4dd2-b6e0-ba8e18d09c87",
   "metadata": {},
   "outputs": [],
   "source": [
    "def uji_t_1pop (data, miu0, alpha, pilihan):\n",
    "    n = len(data)\n",
    "    x_bar = np.mean(data)\n",
    "    std_sample = np.sqrt(np.sum((data - x_bar)**2) / (n - 1))\n",
    "    t_hit = (x_bar - miu0) / (std_sample / np.sqrt(n))\n",
    "    df = n-1\n",
    "    if (pilihan == \"lower\"):\n",
    "        tandah0 = '>='\n",
    "        tandah1 = '<'\n",
    "        pval = t.cdf(t_hit, df)\n",
    "        t_table = t.ppf(alpha, df)\n",
    "    elif (pilihan == \"upper\"):\n",
    "        tandah0 = '<='\n",
    "        tandah1 = '>'\n",
    "        pval = 1-t.cdf(t_hit, df)\n",
    "        t_table = t.ppf(1-alpha, df)\n",
    "    elif (pilihan == \"twotail\"):\n",
    "        tandah0 = '='\n",
    "        tandah1 = '!='\n",
    "        pval = 2*(1 - t.cdf(abs(t_hit), df))\n",
    "        t_table = t.ppf(1-alpha/2, df)\n",
    "    if pval<alpha:\n",
    "        keputusan = \"Tolak H0\"\n",
    "    else:\n",
    "        keputusan = \"Gagal Tolak H0\"\n",
    "    print('=================================================')\n",
    "    print('\\t\\tUJI t 1 POPULASI')\n",
    "    print('=================================================')\n",
    "    print(\"Hipotesis : \")\n",
    "    print('-------------------------------------------------')\n",
    "    print(\"H0 : Miu\",tandah0,miu0)\n",
    "    print(\"H1 : Miu\",tandah1,miu0)\n",
    "    print('-------------------------------------------------')\n",
    "    print('df\\t\\t=',df)\n",
    "    print('t Hitung\\t=',t_hit)\n",
    "    print('t Tabel\\t\\t=',t_table)\n",
    "    print('P - Value\\t=',pval)\n",
    "    print('Alpha\\t\\t=',alpha)\n",
    "    print('-------------------------------------------------')\n",
    "    print('Keputusan\\t=',keputusan)\n",
    "    print('=================================================')"
   ]
  },
  {
   "cell_type": "code",
   "execution_count": 71,
   "id": "9a6c60d3-8278-4e05-b76f-64ce5310521c",
   "metadata": {},
   "outputs": [
    {
     "name": "stdout",
     "output_type": "stream",
     "text": [
      "=================================================\n",
      "\t\tUJI t 1 POPULASI\n",
      "=================================================\n",
      "Hipotesis : \n",
      "-------------------------------------------------\n",
      "H0 : Miu = 15\n",
      "H1 : Miu != 15\n",
      "-------------------------------------------------\n",
      "df\t\t= 8\n",
      "t Hitung\t= 0.6099942813304181\n",
      "t Tabel\t\t= 2.3060041350333704\n",
      "P - Value\t= 0.5587899692492146\n",
      "Alpha\t\t= 0.05\n",
      "-------------------------------------------------\n",
      "Keputusan\t= Gagal Tolak H0\n",
      "=================================================\n"
     ]
    }
   ],
   "source": [
    "sample = np.array([10, 12, 14, 15, 16, 17, 18, 19, 20])\n",
    "mu = 15\n",
    "alpha = 0.05\n",
    "\n",
    "uji_t_1pop(sample, mu, alpha, \"twotail\")"
   ]
  },
  {
   "cell_type": "markdown",
   "id": "10f80ed6-0c85-4d7b-b427-73f0de7c8a6c",
   "metadata": {},
   "source": [
    "-----------------------------------------"
   ]
  },
  {
   "cell_type": "markdown",
   "id": "1f43e283-c678-4ec6-b16f-0925eed800aa",
   "metadata": {},
   "source": [
    "### _2 POPULASI (Mean, Proporsi)_"
   ]
  },
  {
   "cell_type": "markdown",
   "id": "11cc84d2-e70f-4627-93da-6fe004120b28",
   "metadata": {},
   "source": [
    "-------------------------------"
   ]
  },
  {
   "cell_type": "markdown",
   "id": "31aa63a6-6001-49a3-b71e-a6d4396e8c04",
   "metadata": {},
   "source": [
    "## Uji Berpasangan"
   ]
  },
  {
   "cell_type": "code",
   "execution_count": 72,
   "id": "e7309f61-0e2b-45fc-8866-7ebcf37d649d",
   "metadata": {},
   "outputs": [],
   "source": [
    "def paired_t_test(sample1, sample2):\n",
    "    n = len(sample1)\n",
    "    d = sample1 - sample2\n",
    "    d_bar = np.mean(d)\n",
    "    sd = np.sqrt(np.sum((d - d_bar)**2) / (n - 1))\n",
    "    t_statistic = d_bar / (sd / np.sqrt(n))\n",
    "    df = n - 1\n",
    "    pval = 2 * t.sf(abs(t_statistic), df)\n",
    "    return t_statistic, df, pval"
   ]
  },
  {
   "cell_type": "code",
   "execution_count": 74,
   "id": "e8a5b839-4105-4168-aa90-2a402030e182",
   "metadata": {},
   "outputs": [
    {
     "name": "stdout",
     "output_type": "stream",
     "text": [
      "T statistic: -5.673665146135802\n",
      "Degrees of freedom: 8\n",
      "P-Value: 0.0004684096952802554\n"
     ]
    }
   ],
   "source": [
    "# Example usage\n",
    "sample1 = np.array([10, 12, 14, 15, 16, 17, 18, 19, 20])\n",
    "sample2 = np.array([12, 14, 16, 18, 20, 22, 24, 26, 28])\n",
    "t_statistic, df, nilaipval = paired_t_test(sample1, sample2)\n",
    "print(\"T statistic:\", t_statistic)\n",
    "print(\"Degrees of freedom:\", df)\n",
    "print(\"P-Value:\", nilaipval)"
   ]
  },
  {
   "cell_type": "code",
   "execution_count": 92,
   "id": "6929dffd-76b4-4efb-9c8b-faeb34cc0b9c",
   "metadata": {},
   "outputs": [],
   "source": [
    "def uji_t_berpasangan(sample1, sample2, alpha, pilihan):\n",
    "    n1 = len(sample1)\n",
    "    n2 = len(sample2)\n",
    "    if(n1==n2):\n",
    "        n = n1\n",
    "        d = sample1 - sample2\n",
    "        d_bar = np.mean(d)\n",
    "        sd = np.sqrt(np.sum((d - d_bar)**2) / (n - 1))\n",
    "        t_hit = d_bar / (sd / np.sqrt(n))\n",
    "        df = n - 1\n",
    "        if (pilihan == \"lower\"):\n",
    "            tandah0 = '>='\n",
    "            tandah1 = '<'\n",
    "            pval = t.cdf(t_hit, df)\n",
    "            t_table = t.ppf(alpha, df)\n",
    "        elif (pilihan == \"upper\"):\n",
    "            tandah0 = '<='\n",
    "            tandah1 = '>'\n",
    "            pval = 1-t.cdf(t_hit, df)\n",
    "            t_table = t.ppf(1-alpha, df)\n",
    "        elif (pilihan == \"twotail\"):\n",
    "            tandah0 = '='\n",
    "            tandah1 = '!='\n",
    "            pval = 2*(1 - t.cdf(abs(t_hit), df))\n",
    "            t_table = t.ppf(1-alpha/2, df)\n",
    "        if pval<alpha:\n",
    "            keputusan = \"Tolak H0\"\n",
    "        else:\n",
    "            keputusan = \"Gagal Tolak H0\"\n",
    "        print('=================================================')\n",
    "        print('\\t   UJI t 2 POPULASI BERPASANGAN')\n",
    "        print('=================================================')\n",
    "        print(\"Hipotesis : \")\n",
    "        print('-------------------------------------------------')\n",
    "        print(\"H0 : Miu1 - Miu2\",tandah0,0)\n",
    "        print(\"H1 : Miu1 - Miu2\",tandah1,0)\n",
    "        print('-------------------------------------------------')\n",
    "        print('df\\t\\t=',df)\n",
    "        print('t Hitung\\t=',t_hit)\n",
    "        print('t Tabel\\t\\t=',t_table)\n",
    "        print('P - Value\\t=',pval)\n",
    "        print('Alpha\\t\\t=',alpha)\n",
    "        print('-------------------------------------------------')\n",
    "        print('Keputusan\\t=',keputusan)\n",
    "        print('=================================================')\n",
    "    else:\n",
    "        print(\"Paired t-test tidak bisa dilakukan karena ukuran sample berbeda\")"
   ]
  },
  {
   "cell_type": "code",
   "execution_count": 93,
   "id": "92618a15-bf7e-4b66-8076-b0bac3eef438",
   "metadata": {},
   "outputs": [
    {
     "name": "stdout",
     "output_type": "stream",
     "text": [
      "=================================================\n",
      "\t   UJI t 2 POPULASI BERPASANGAN\n",
      "=================================================\n",
      "Hipotesis : \n",
      "-------------------------------------------------\n",
      "H0 : Miu1 - Miu2 = 0\n",
      "H1 : Miu1 - Miu2 != 0\n",
      "-------------------------------------------------\n",
      "df\t\t= 8\n",
      "t Hitung\t= -5.673665146135802\n",
      "t Tabel\t\t= 2.3060041350333704\n",
      "P - Value\t= 0.00046840969528028076\n",
      "Alpha\t\t= 0.05\n",
      "-------------------------------------------------\n",
      "Keputusan\t= Tolak H0\n",
      "=================================================\n"
     ]
    }
   ],
   "source": [
    "sample1 = np.array([10, 12, 14, 15, 16, 17, 18, 19, 20])\n",
    "sample2 = np.array([12, 14, 16, 18, 20, 22, 24, 26, 28])\n",
    "\n",
    "uji_t_berpasangan(sample1, sample2, 0.05, \"twotail\")"
   ]
  },
  {
   "cell_type": "markdown",
   "id": "2688be2f-7d94-4f17-a939-0072f61a6469",
   "metadata": {},
   "source": [
    "## Uji t independen"
   ]
  },
  {
   "cell_type": "code",
   "execution_count": 71,
   "id": "0d6afe16-835a-4b16-bf4f-24810128b8b1",
   "metadata": {},
   "outputs": [],
   "source": [
    "from scipy.stats import f\n",
    "from scipy.stats import t\n",
    "def uji_t_independen(sample1, sample2, alpha, pilihan):\n",
    "    n1 = len(sample1)\n",
    "    n2 = len(sample2)\n",
    "    s01 = np.var(sample1)\n",
    "    s02 = np.var(sample2)\n",
    "    v1 = n1-1\n",
    "    v2 = n2-2\n",
    "    x_bar1 = np.mean(sample1)\n",
    "    x_bar2 = np.mean(sample2)\n",
    "    fhit = s01/s02\n",
    "    p_value_var = 2 * min(f.cdf(fhit, v1, v2), 1 - f.cdf(fhit, v1, v2))\n",
    "\n",
    "    if p_value_var<alpha:\n",
    "        var_sama = False\n",
    "    else:\n",
    "        var_sama = True\n",
    "    \n",
    "    if var_sama == True:\n",
    "        s_pooled = np.sqrt(((n1 - 1) * np.var(sample1) + (n2 - 1) * np.var(sample2)) / (n1 + n2 - 2))\n",
    "    else:\n",
    "        s1 = np.sqrt(np.var(sample1))\n",
    "        s2 = np.sqrt(np.var(sample2))\n",
    "        s_pooled = np.sqrt(((n1 - 1) * s1**2 + (n2 - 1) * s2**2) / (n1 + n2 - 2))\n",
    "        \n",
    "    t_hit = (x_bar1 - x_bar2) / (s_pooled / np.sqrt(n1 + n2))\n",
    "    df = n1 + n2 - 2\n",
    "    if (pilihan == \"lower\"):\n",
    "        tandah0 = '>='\n",
    "        tandah1 = '<'\n",
    "        pval = t.cdf(t_hit, df)\n",
    "        t_table = t.ppf(alpha, df)\n",
    "    elif (pilihan == \"upper\"):\n",
    "        tandah0 = '<='\n",
    "        tandah1 = '>'\n",
    "        pval = 1-t.cdf(t_hit, df)\n",
    "        t_table = t.ppf(1-alpha, df)\n",
    "    elif (pilihan == \"twotail\"):\n",
    "        tandah0 = '='\n",
    "        tandah1 = '!='\n",
    "        pval = 2*(1 - t.cdf(abs(t_hit), df))\n",
    "        t_table = t.ppf(1-alpha/2, df)\n",
    "    if pval<alpha:\n",
    "        keputusan = \"Tolak H0\"\n",
    "    else:\n",
    "        keputusan = \"Gagal Tolak H0\"\n",
    "    print('=================================================')\n",
    "    print('\\t   UJI t 2 POPULASI INDEPENDEN')\n",
    "    print('=================================================')\n",
    "    print('Uji - F :')\n",
    "    print('H0 : Var1-Var2 = 0')\n",
    "    print('H0 : Var1-Var2 != 0')\n",
    "    print('Hasil Uji - F :')\n",
    "    print('-------------------------------------------------')\n",
    "    if var_sama:\n",
    "        print(\"Varians kedua populasi sama\")\n",
    "    else:\n",
    "        print(\"Varians kedua populasi berbeda\")\n",
    "    print('-------------------------------------------------')\n",
    "    print(\"Hipotesis : \")\n",
    "    print('-------------------------------------------------')\n",
    "    print(\"H0 : Miu1 - Miu2\",tandah0,0)\n",
    "    print(\"H1 : Miu1 - Miu2\",tandah1,0)\n",
    "    print('-------------------------------------------------')\n",
    "    print('df\\t\\t=',df)\n",
    "    print('t Hitung\\t=',t_hit)\n",
    "    print('t Tabel\\t\\t=',t_table)\n",
    "    print('P - Value\\t=',pval)\n",
    "    print('Alpha\\t\\t=',alpha)\n",
    "    print('-------------------------------------------------')\n",
    "    print('Keputusan\\t=',keputusan)\n",
    "    print('=================================================')"
   ]
  },
  {
   "cell_type": "code",
   "execution_count": 72,
   "id": "c803948e-5a55-4a50-b2d2-8b2b285d1574",
   "metadata": {},
   "outputs": [
    {
     "name": "stdout",
     "output_type": "stream",
     "text": [
      "=================================================\n",
      "\t   UJI t 2 POPULASI INDEPENDEN\n",
      "=================================================\n",
      "Uji - F :\n",
      "H0 : Var1-Var2 = 0\n",
      "H0 : Var1-Var2 != 0\n",
      "Hasil Uji - F :\n",
      "-------------------------------------------------\n",
      "Varians kedua populasi sama\n",
      "-------------------------------------------------\n",
      "Hipotesis : \n",
      "-------------------------------------------------\n",
      "H0 : Miu1 - Miu2 = 0\n",
      "H1 : Miu1 - Miu2 != 0\n",
      "-------------------------------------------------\n",
      "df\t\t= 8\n",
      "t Hitung\t= -4.528391448839648\n",
      "t Tabel\t\t= 2.3060041350333704\n",
      "P - Value\t= 0.0019284525780376427\n",
      "Alpha\t\t= 0.05\n",
      "-------------------------------------------------\n",
      "Keputusan\t= Tolak H0\n",
      "=================================================\n"
     ]
    }
   ],
   "source": [
    "sample1 = np.array([10, 12, 14, 15, 16])\n",
    "sample2 = np.array([13, 15, 17, 19, 21])\n",
    "\n",
    "uji_t_independen(sample1, sample2, 0.05, \"twotail\")"
   ]
  },
  {
   "cell_type": "markdown",
   "id": "a98de8fc-b94b-497b-aa5e-62ea561ea4d4",
   "metadata": {},
   "source": [
    "## Uji Proporsi 2 Populasi"
   ]
  },
  {
   "cell_type": "code",
   "execution_count": 131,
   "id": "ebdd9e8e-7b9e-4990-8a9e-6303ce6cd63a",
   "metadata": {},
   "outputs": [],
   "source": [
    "def uji_prop_2pop(x1, n1, x2, n2, p0, alpha, pilihan):\n",
    "    p1 = x1/n1\n",
    "    p2 = x2/n2\n",
    "    if p1==p2:\n",
    "        phat = (x1+x2)/(n1+n2)\n",
    "        z_hit = (p1 - p2 - p0) / np.sqrt(phat * (1 - phat) * ((1 / n1) + (1 / n2)))\n",
    "    else:\n",
    "        z_hit = (p1-p2-p0)/np.sqrt((p1*(1-p1)/n1)+(p2*(1-p2)/n2))\n",
    "    if (pilihan == \"lower\"):\n",
    "        tandah0 = '>='\n",
    "        tandah1 = '<'\n",
    "        pval = norm.cdf(z_hit)\n",
    "        z_table = norm.ppf(alpha)\n",
    "    elif (pilihan == \"upper\"):\n",
    "        tandah0 = '<='\n",
    "        tandah1 = '>'\n",
    "        pval = 1-norm.cdf(z_hit)\n",
    "        z_table = norm.ppf(1-alpha)\n",
    "    elif (pilihan == \"twotail\"):\n",
    "        tandah0 = '='\n",
    "        tandah1 = '!='\n",
    "        pval = 2*(1 - norm.cdf(abs(z_hit)))\n",
    "        z_table = norm.ppf(1-alpha/2)\n",
    "    if pval<alpha:\n",
    "        keputusan = \"Tolak H0\"\n",
    "    else:\n",
    "        keputusan = \"Gagal Tolak H0\"\n",
    "    print('=================================================')\n",
    "    print('\\t       UJI PROP 2 POPULASI')\n",
    "    print('=================================================')\n",
    "    print(\"Hipotesis : \")\n",
    "    print('-------------------------------------------------')\n",
    "    print(\"H0 : p1 - p2\",tandah0,p0)\n",
    "    print(\"H1 : p1 - p2\",tandah1,p0)\n",
    "    print('-------------------------------------------------')\n",
    "    print('Z Hitung\\t=',z_hit)\n",
    "    print('Z Tabel\\t\\t=',z_table)\n",
    "    print('P - Value\\t=',pval)\n",
    "    print('Alpha\\t\\t=',alpha)\n",
    "    print('-------------------------------------------------')\n",
    "    print('Keputusan\\t=',keputusan)\n",
    "    print('=================================================')"
   ]
  },
  {
   "cell_type": "code",
   "execution_count": 132,
   "id": "55adcf0e-18df-4432-8c76-b2fbe3a4b0c8",
   "metadata": {},
   "outputs": [
    {
     "name": "stdout",
     "output_type": "stream",
     "text": [
      "=================================================\n",
      "\t       UJI PROP 2 POPULASI\n",
      "=================================================\n",
      "Hipotesis : \n",
      "-------------------------------------------------\n",
      "H0 : p1 - p2 <= 0.08\n",
      "H1 : p1 - p2 > 0.08\n",
      "-------------------------------------------------\n",
      "Z Hitung\t= 2.2725955166024794\n",
      "Z Tabel\t\t= 1.6448536269514722\n",
      "P - Value\t= 0.011525283034981015\n",
      "Alpha\t\t= 0.05\n",
      "-------------------------------------------------\n",
      "Keputusan\t= Tolak H0\n",
      "=================================================\n"
     ]
    }
   ],
   "source": [
    "x1 = 200\n",
    "x2 = 100\n",
    "n1 = 500\n",
    "n2 = 400\n",
    "\n",
    "uji_prop_2pop(x1, n1, x2, n2, 0.08, 0.05, \"upper\")"
   ]
  },
  {
   "cell_type": "markdown",
   "id": "177b2f16-4f03-4b92-98df-385dc794f7ac",
   "metadata": {},
   "source": [
    "## ANOVA"
   ]
  },
  {
   "cell_type": "code",
   "execution_count": 17,
   "id": "dc01cdc6-f3ba-4dff-891f-5d39ac151f18",
   "metadata": {},
   "outputs": [],
   "source": [
    "import pandas as pd"
   ]
  },
  {
   "cell_type": "code",
   "execution_count": 18,
   "id": "f7e9ed6d-39ef-4c1c-8ce8-b87cb6aae287",
   "metadata": {},
   "outputs": [],
   "source": [
    "placebo = [3, 2, 1, 1, 4]\n",
    "low = [5, 2, 4, 2, 3]\n",
    "high = [7, 4, 5, 3, 6]"
   ]
  },
  {
   "cell_type": "code",
   "execution_count": 19,
   "id": "8317d9ec-d167-407c-8ebe-45e115c63d71",
   "metadata": {},
   "outputs": [
    {
     "data": {
      "text/plain": [
       "array([[3, 5, 7],\n",
       "       [2, 2, 4],\n",
       "       [1, 4, 5],\n",
       "       [1, 2, 3],\n",
       "       [4, 3, 6]])"
      ]
     },
     "execution_count": 19,
     "metadata": {},
     "output_type": "execute_result"
    }
   ],
   "source": [
    "data = []\n",
    "data.append(placebo)\n",
    "data.append(low)\n",
    "data.append(high)\n",
    "data = np.array(data).transpose()\n",
    "data"
   ]
  },
  {
   "cell_type": "code",
   "execution_count": 20,
   "id": "91c7cf2e-9734-459b-a77c-47e0e5f8715f",
   "metadata": {},
   "outputs": [
    {
     "data": {
      "text/html": [
       "<div>\n",
       "<style scoped>\n",
       "    .dataframe tbody tr th:only-of-type {\n",
       "        vertical-align: middle;\n",
       "    }\n",
       "\n",
       "    .dataframe tbody tr th {\n",
       "        vertical-align: top;\n",
       "    }\n",
       "\n",
       "    .dataframe thead th {\n",
       "        text-align: right;\n",
       "    }\n",
       "</style>\n",
       "<table border=\"1\" class=\"dataframe\">\n",
       "  <thead>\n",
       "    <tr style=\"text-align: right;\">\n",
       "      <th></th>\n",
       "      <th>placebo</th>\n",
       "      <th>low</th>\n",
       "      <th>high</th>\n",
       "    </tr>\n",
       "  </thead>\n",
       "  <tbody>\n",
       "    <tr>\n",
       "      <th>0</th>\n",
       "      <td>3</td>\n",
       "      <td>5</td>\n",
       "      <td>7</td>\n",
       "    </tr>\n",
       "    <tr>\n",
       "      <th>1</th>\n",
       "      <td>2</td>\n",
       "      <td>2</td>\n",
       "      <td>4</td>\n",
       "    </tr>\n",
       "    <tr>\n",
       "      <th>2</th>\n",
       "      <td>1</td>\n",
       "      <td>4</td>\n",
       "      <td>5</td>\n",
       "    </tr>\n",
       "    <tr>\n",
       "      <th>3</th>\n",
       "      <td>1</td>\n",
       "      <td>2</td>\n",
       "      <td>3</td>\n",
       "    </tr>\n",
       "    <tr>\n",
       "      <th>4</th>\n",
       "      <td>4</td>\n",
       "      <td>3</td>\n",
       "      <td>6</td>\n",
       "    </tr>\n",
       "  </tbody>\n",
       "</table>\n",
       "</div>"
      ],
      "text/plain": [
       "   placebo  low  high\n",
       "0        3    5     7\n",
       "1        2    2     4\n",
       "2        1    4     5\n",
       "3        1    2     3\n",
       "4        4    3     6"
      ]
     },
     "execution_count": 20,
     "metadata": {},
     "output_type": "execute_result"
    }
   ],
   "source": [
    "data_contoh_df = pd.DataFrame(data, columns=['placebo', 'low', 'high'])\n",
    "data_contoh_df"
   ]
  },
  {
   "cell_type": "code",
   "execution_count": 21,
   "id": "beff387d-97c6-43c0-8043-d625e0ef07bd",
   "metadata": {},
   "outputs": [],
   "source": [
    "from scipy.stats import f"
   ]
  },
  {
   "cell_type": "code",
   "execution_count": 67,
   "id": "4e5ec2a3-7949-40f0-95dc-cb34b2e4f892",
   "metadata": {},
   "outputs": [],
   "source": [
    "from tabulate import tabulate\n",
    "def anova(data, alpha):\n",
    "    n_kolom = len(data.columns)\n",
    "    n_baris = len(data)\n",
    "    xbar = data.mean()\n",
    "    xbar_tot = np.mean(data.values)\n",
    "    sse = 0\n",
    "    sst = 0\n",
    "    n_semua_data = 0\n",
    " \n",
    "    for i in range(n_baris):\n",
    "        n_semua_data += len(data.iloc[i])\n",
    " \n",
    "    for i in range(n_baris):\n",
    "        for j in range(n_kolom):\n",
    "            sse += (data.iloc[i, j] - xbar.iloc[j])**2\n",
    "            sst += (data.iloc[i, j] - xbar_tot)**2\n",
    " \n",
    "    ssb = sst - sse\n",
    " \n",
    "    msb = ssb / (n_kolom-1)\n",
    "    mse = sse / (n_semua_data-n_kolom)\n",
    " \n",
    "    fstat = msb/mse\n",
    " \n",
    "    dfb = n_kolom - 1\n",
    "    dfe = n_semua_data - n_kolom\n",
    "    dft = n_semua_data - 1\n",
    "    \n",
    "    p_value = 1 - f.cdf(fstat, dfb, dfe)\n",
    "    source = ['Between Groups', 'Error', 'Total']\n",
    "    kolom = ['Sum of Squares', 'Degrees of Freedom', 'Mean Squares', 'F-Hit', 'Sign. F']\n",
    "    \n",
    "    sum_squares = np.array([ssb, sse, sst])\n",
    "    degreeoff = np.array([dfb, dfe, dft])\n",
    "    f_kolom = np.array([fstat, \"\", \"\"])\n",
    "    p_kolom = np.array([p_value, \"\", \"\"])\n",
    "    mean_square = np.array([msb, mse, \"\"])\n",
    "\n",
    "    data_anova = np.column_stack((sum_squares, degreeoff, mean_square, f_kolom, p_kolom))\n",
    "    \n",
    "    output_df = pd.DataFrame(data_anova, index = source, columns = kolom)\n",
    "    tabel_output_anova = tabulate(output_df,headers='keys', tablefmt='pretty')\n",
    "    print(tabel_output_anova)\n",
    "    if p_value < alpha:\n",
    "        kesimpulan = \"Tolak H0: Ada perbedaan signifikan antara kelompok\"\n",
    "    else:\n",
    "        kesimpulan = \"Gagal tolak H0: Tidak ada perbedaan signifikan antara kelompok\"\n",
    "    print('=================================================')\n",
    "    print('\\t\\t  ANOVA TEST')\n",
    "    print('=================================================')\n",
    "    print(\"Hipotesis : \")\n",
    "    print('-------------------------------------------------')\n",
    "    print(\"H0 : Miu(1) = Miu(2) = ... = Miu(n)\")\n",
    "    print(\"H1 : Means are not equal\")\n",
    "    print('-------------------------------------------------')\n",
    "    print('P-Value\\t=',p_value)\n",
    "    print('Alpha\\t=',alpha)\n",
    "    print(kesimpulan)\n",
    "    print('=================================================')"
   ]
  },
  {
   "cell_type": "code",
   "execution_count": 68,
   "id": "6ba8b932-e92d-48d3-ba46-d2329c9796ee",
   "metadata": {},
   "outputs": [
    {
     "name": "stdout",
     "output_type": "stream",
     "text": [
      "+----------------+--------------------+--------------------+--------------------+------------------+----------------------+\n",
      "|                |   Sum of Squares   | Degrees of Freedom |    Mean Squares    |      F-Hit       |       Sign. F        |\n",
      "+----------------+--------------------+--------------------+--------------------+------------------+----------------------+\n",
      "| Between Groups | 20.133333333333333 |         2          | 10.066666666666666 | 5.11864406779661 | 0.024694289538222614 |\n",
      "|     Error      |        23.6        |         12         | 1.9666666666666668 |                  |                      |\n",
      "|     Total      | 43.733333333333334 |         14         |                    |                  |                      |\n",
      "+----------------+--------------------+--------------------+--------------------+------------------+----------------------+\n",
      "=================================================\n",
      "\t\t  ANOVA TEST\n",
      "=================================================\n",
      "Hipotesis : \n",
      "-------------------------------------------------\n",
      "H0 : Miu(1) = Miu(2) = ... = Miu(n)\n",
      "H1 : Means are not equal\n",
      "-------------------------------------------------\n",
      "P-Value\t= 0.024694289538222614\n",
      "Alpha\t= 0.05\n",
      "Tolak H0: Ada perbedaan signifikan antara kelompok\n",
      "=================================================\n"
     ]
    }
   ],
   "source": [
    "cek = anova(data_contoh_df, 0.05)\n",
    "cek"
   ]
  },
  {
   "cell_type": "code",
   "execution_count": null,
   "id": "3e159323-8848-4a13-aef8-6286ab0cb5db",
   "metadata": {},
   "outputs": [],
   "source": []
  }
 ],
 "metadata": {
  "kernelspec": {
   "display_name": "Python 3 (ipykernel)",
   "language": "python",
   "name": "python3"
  },
  "language_info": {
   "codemirror_mode": {
    "name": "ipython",
    "version": 3
   },
   "file_extension": ".py",
   "mimetype": "text/x-python",
   "name": "python",
   "nbconvert_exporter": "python",
   "pygments_lexer": "ipython3",
   "version": "3.11.1"
  }
 },
 "nbformat": 4,
 "nbformat_minor": 5
}
